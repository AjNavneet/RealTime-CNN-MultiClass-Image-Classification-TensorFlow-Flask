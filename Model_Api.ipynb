{
 "cells": [
  {
   "cell_type": "code",
   "execution_count": 1,
   "metadata": {},
   "outputs": [],
   "source": [
    "import requests\n",
    "import json\n",
    "import os"
   ]
  },
  {
   "cell_type": "code",
   "execution_count": 6,
   "metadata": {},
   "outputs": [
    {
     "name": "stdout",
     "output_type": "stream",
     "text": [
      "{\"class\":\"others\",\"confidence(%)\":91.73476099967957}\n",
      "\n"
     ]
    }
   ],
   "source": [
    "# Normal API call with all inputs in correct format\n",
    "\n",
    "# Define the URL for the API endpoint you want to call\n",
    "url = 'http://0.0.0.0:5001/get-image-class'\n",
    "\n",
    "# Prepare the data to be sent in the POST request\n",
    "files = {'file': open('input/Testing_Data/others/101.jpg', 'rb')}\n",
    "\n",
    "# Send a POST request to the specified URL with the data\n",
    "response = requests.post(url, files=files)\n",
    "\n",
    "# Print the response text received from the API\n",
    "print(response.text)\n"
   ]
  },
  {
   "cell_type": "markdown",
   "metadata": {},
   "source": [
    "---"
   ]
  },
  {
   "cell_type": "code",
   "execution_count": null,
   "metadata": {},
   "outputs": [],
   "source": []
  }
 ],
 "metadata": {
  "kernelspec": {
   "display_name": "Python 3",
   "language": "python",
   "name": "python3"
  },
  "language_info": {
   "codemirror_mode": {
    "name": "ipython",
    "version": 3
   },
   "file_extension": ".py",
   "mimetype": "text/x-python",
   "name": "python",
   "nbconvert_exporter": "python",
   "pygments_lexer": "ipython3",
   "version": "3.8.8"
  }
 },
 "nbformat": 4,
 "nbformat_minor": 4
}
